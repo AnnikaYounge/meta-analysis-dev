{
 "cells": [
  {
   "metadata": {},
   "cell_type": "markdown",
   "source": "### Overview of current papers",
   "id": "cd18e9e1b2f56c70"
  },
  {
   "metadata": {},
   "cell_type": "markdown",
   "source": [
    "**Took citations from the following papers**:\n",
    "\n",
    "\n",
    "Foster, Andrew D. and Mark R. Rosenzweig. “Learning by Doing and Learning from Others: Human Capital and Technical Change in Agriculture.” Journal of Political Economy 103 (1995): 1176 - 1209.\n",
    "\n",
    "Conley, Timothy G. and Christopher Udry. “Learning About a New Technology: Pineapple in Ghana.” The American Economic Review 100 (2010): 35-69\n",
    "\n",
    "Banerjee, Abhijit, Arun G. Chandrasekhar, Esther Duflo and Matthew O. Jackson. “The Diffusion of Microfinance.” Science 341 (2012): n. pag.."
   ],
   "id": "f2cf4cdf1aaa448c"
  },
  {
   "metadata": {
    "ExecuteTime": {
     "end_time": "2025-05-13T09:25:41.393536Z",
     "start_time": "2025-05-13T09:25:41.287888Z"
    }
   },
   "cell_type": "code",
   "source": [
    "from prep_papers import stats_papers, create_central_df\n",
    "\n",
    "stats_papers(\"learning_citations.csv\")"
   ],
   "id": "6aaba4a0c7c6a0b",
   "outputs": [
    {
     "name": "stdout",
     "output_type": "stream",
     "text": [
      "number of papers: 2147\n",
      "number of papers with non-null abstracts: 206\n",
      "Number of papers with missing abstracts: 1941\n"
     ]
    }
   ],
   "execution_count": 2
  }
 ],
 "metadata": {
  "kernelspec": {
   "display_name": "Python 3",
   "language": "python",
   "name": "python3"
  },
  "language_info": {
   "codemirror_mode": {
    "name": "ipython",
    "version": 2
   },
   "file_extension": ".py",
   "mimetype": "text/x-python",
   "name": "python",
   "nbconvert_exporter": "python",
   "pygments_lexer": "ipython2",
   "version": "2.7.6"
  }
 },
 "nbformat": 4,
 "nbformat_minor": 5
}
