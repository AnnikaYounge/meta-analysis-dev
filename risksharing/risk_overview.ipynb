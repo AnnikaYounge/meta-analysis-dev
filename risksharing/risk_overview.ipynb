{
 "cells": [
  {
   "metadata": {},
   "cell_type": "markdown",
   "source": "### Overview of current papers",
   "id": "3af1d94068b253e5"
  },
  {
   "metadata": {
    "ExecuteTime": {
     "end_time": "2025-05-13T09:27:13.577687Z",
     "start_time": "2025-05-13T09:27:13.537924Z"
    }
   },
   "cell_type": "code",
   "source": [
    "from prep_papers import stats_papers, create_central_df\n",
    "\n",
    "stats_papers(\"risk_citations_recovered.csv\")"
   ],
   "id": "initial_id",
   "outputs": [
    {
     "name": "stdout",
     "output_type": "stream",
     "text": [
      "number of papers: 2754\n",
      "number of papers with non-null abstracts: 521\n",
      "Number of papers with missing abstracts: 2233\n"
     ]
    }
   ],
   "execution_count": 3
  }
 ],
 "metadata": {
  "kernelspec": {
   "display_name": "Python 3",
   "language": "python",
   "name": "python3"
  },
  "language_info": {
   "codemirror_mode": {
    "name": "ipython",
    "version": 2
   },
   "file_extension": ".py",
   "mimetype": "text/x-python",
   "name": "python",
   "nbconvert_exporter": "python",
   "pygments_lexer": "ipython2",
   "version": "2.7.6"
  }
 },
 "nbformat": 4,
 "nbformat_minor": 5
}
